{
 "cells": [
  {
   "cell_type": "code",
   "execution_count": 9,
   "metadata": {},
   "outputs": [],
   "source": [
    "%reset -f\n",
    "\n",
    "import sys\n",
    "import os\n",
    "import bz2\n",
    "import csv\n",
    "import pandas as pd\n",
    "import ast\n",
    "import ujson\n",
    "import numpy as np\n",
    "\n",
    "dirpath = \"/Volumes/platomo data/Projekte/008 BASt Fussverkehrsaufkommen/Ground Truth/Zählstellen_fertig/C1/Ost_OTC01/\""
   ]
  },
  {
   "cell_type": "markdown",
   "metadata": {},
   "source": [
    "## Import otevents"
   ]
  },
  {
   "cell_type": "code",
   "execution_count": 14,
   "metadata": {},
   "outputs": [
    {
     "name": "stdout",
     "output_type": "stream",
     "text": [
      "     road_user_id road_user_type    hostname                  occurrence  \\\n",
      "1037           11     pedestrian  otcamera28  2023-09-20 07:00:55.481130   \n",
      "\n",
      "      frame_number section_id                       event_coordinate  \\\n",
      "1037          1111         11  [531.9104614257812, 269.136474609375]   \n",
      "\n",
      "         event_type                          direction_vector  \\\n",
      "1037  section-enter  [-27.75592041015625, 1.3209899902343523]   \n",
      "\n",
      "                                       video_name  \n",
      "1037  otcamera28_FR20_2023-09-20_07-00-00_Ost.mp4  \n"
     ]
    }
   ],
   "source": [
    "with bz2.open('/Volumes/platomo data/Projekte/008 BASt Fussverkehrsaufkommen/Ground Truth/Zählstellen_fertig/C2/West_OTC28/C2_West_OTC28.events.otevents_alt', \"rt\", encoding=\"UTF-8\") as file:\n",
    "    dictfile = ujson.load(file)\n",
    "    \n",
    "    # Convert to DataFrame\n",
    "    EVENTS = pd.DataFrame.from_dict(dictfile['event_list'])\n",
    "\n",
    "    print(EVENTS[EVENTS['frame_number'] == 1111])"
   ]
  },
  {
   "cell_type": "code",
   "execution_count": 16,
   "metadata": {},
   "outputs": [
    {
     "name": "stdout",
     "output_type": "stream",
     "text": [
      "         road_user_id road_user_type    hostname                  occurrence  \\\n",
      "487  legacy#legacy#11            car  otcamera28  2023-09-20 07:00:55.481130   \n",
      "\n",
      "     frame_number section_id                       event_coordinate  \\\n",
      "487          1111         11  [531.9104614257812, 269.136474609375]   \n",
      "\n",
      "        event_type                          direction_vector  \\\n",
      "487  section-enter  [-27.75592041015625, 1.3209899902343523]   \n",
      "\n",
      "                                      video_name  \n",
      "487  otcamera28_FR20_2023-09-20_07-00-00_Ost.mp4  \n"
     ]
    }
   ],
   "source": [
    "with bz2.open('/Volumes/platomo data/Projekte/008 BASt Fussverkehrsaufkommen/Ground Truth/Zählstellen_fertig/C2/West_OTC28/C2_West_OTC28_neu.otevents', \"rt\", encoding=\"UTF-8\") as file:\n",
    "    dictfile = ujson.load(file)\n",
    "    \n",
    "    # Convert to DataFrame\n",
    "    EVENTS = pd.DataFrame.from_dict(dictfile['event_list'])\n",
    "\n",
    "    print(EVENTS[EVENTS['frame_number'] == 1111])"
   ]
  },
  {
   "cell_type": "code",
   "execution_count": 13,
   "metadata": {},
   "outputs": [],
   "source": [
    "def events_to_df(filepath, key = 'event_list'):\n",
    "    # Open otevents-file\n",
    "    with bz2.open(filepath, \"rt\", encoding=\"UTF-8\") as file:\n",
    "        dictfile = ujson.load(file)\n",
    "    \n",
    "    # Convert to DataFrame\n",
    "    EVENTS = pd.DataFrame.from_dict(dictfile[key])\n",
    "\n",
    "    return EVENTS\n",
    "\n",
    "OTAEvents = events_to_df(dirpath + 'C1_Ost_OTC01.events.otevents')\n",
    "GTEvents1 = events_to_df(dirpath + 'OTCamera01_FR20_2023-09-19_17-00-00_Sued.otgtevents')\n",
    "GTEvents2 = events_to_df(dirpath + 'OTCamera01_FR20_2023-09-19_21-00-00_Sued.otgtevents')\n",
    "GTEvents3 = events_to_df(dirpath + 'OTCamera01_FR20_2023-09-20_07-00-00_Sued.otgtevents')\n",
    "GTEvents4 = events_to_df(dirpath + 'OTCamera01_FR20_2023-09-20_13-00-00_Sued.otgtevents')\n",
    "\n",
    "# Nur Fußgaenger\n",
    "# OTAEvents = OTAEvents[OTAEvents['road_user_type'] == 'pedestrian'].reset_index(drop=True)\n",
    "\n",
    "# Nur Events mit vergebener section\n",
    "OTAEvents = OTAEvents[OTAEvents['section_id'].isin(['9','10'])].reset_index(drop=True)\n",
    "\n",
    "\n",
    "GTEvents = pd.concat([GTEvents1, GTEvents2, GTEvents3, GTEvents4])\n",
    "del GTEvents1, GTEvents2, GTEvents3, GTEvents4\n",
    "\n",
    "GTEvents['datetime'] = pd.to_datetime(GTEvents['occurrence'] + 7200, unit='s') #120min fehlen aus irgendeinem Grund\n",
    "\n"
   ]
  },
  {
   "cell_type": "markdown",
   "metadata": {},
   "source": [
    "## Auswertung"
   ]
  },
  {
   "cell_type": "code",
   "execution_count": 23,
   "metadata": {},
   "outputs": [
    {
     "name": "stdout",
     "output_type": "stream",
     "text": [
      "                                               count\n",
      "Zeitspanne          section_id road_user_type       \n",
      "2023-09-19 17:00:00 10         bicyclist           3\n",
      "                               pedestrian         33\n",
      "                    9          bicyclist           3\n",
      "                               pedestrian         26\n",
      "2023-09-19 21:00:00 10         pedestrian          8\n",
      "                    9          bicyclist           1\n",
      "                               bus                 1\n",
      "                               pedestrian          6\n",
      "2023-09-20 07:00:00 10         car                 2\n",
      "                               pedestrian         17\n",
      "                    9          car                 1\n",
      "                               pedestrian         21\n",
      "2023-09-20 13:00:00 10         bicyclist           1\n",
      "                               car                 3\n",
      "                               pedestrian         31\n",
      "                               scooter_driver      1\n",
      "                    9          bicyclist           4\n",
      "                               car                 1\n",
      "                               pedestrian         30\n",
      "                                               count\n",
      "Zeitspanne          section_id road_user_type       \n",
      "2023-09-19 17:00:00 10         pedestrian         27\n",
      "                    9          pedestrian         26\n",
      "2023-09-19 21:00:00 10         pedestrian          7\n",
      "                    9          pedestrian          7\n",
      "2023-09-20 07:00:00 10         pedestrian         18\n",
      "                    9          pedestrian         18\n",
      "2023-09-20 13:00:00 10         pedestrian         26\n",
      "                    9          pedestrian         26\n"
     ]
    }
   ],
   "source": [
    "OTAEvents['occurrence'] = pd.to_datetime(OTAEvents['occurrence'])\n",
    "OTAEvents['Zeitspanne'] = OTAEvents['occurrence'].dt.floor('15min')\n",
    "GTEvents['Zeitspanne'] = GTEvents['datetime'].dt.floor('15min')\n",
    "\n",
    "OTACounts = pd.DataFrame(OTAEvents.groupby(['Zeitspanne', 'section_id', 'road_user_type'])['road_user_id'].count()).rename(columns = {'road_user_id': 'OTAnalytics'})\n",
    "GTCounts = pd.DataFrame(GTEvents.groupby(['Zeitspanne', 'section_id', 'road_user_type'])['road_user_id'].count()).rename(columns = {'road_user_id': 'GroundTruth'})\n",
    "# OTACounts\n",
    "\n",
    "print(OTACounts)\n",
    "print(GTCounts)\n",
    "\n",
    "Counts = pd.merge(OTACounts, GTCounts)"
   ]
  }
 ],
 "metadata": {
  "kernelspec": {
   "display_name": ".venv",
   "language": "python",
   "name": "python3"
  },
  "language_info": {
   "codemirror_mode": {
    "name": "ipython",
    "version": 3
   },
   "file_extension": ".py",
   "mimetype": "text/x-python",
   "name": "python",
   "nbconvert_exporter": "python",
   "pygments_lexer": "ipython3",
   "version": "3.11.7"
  }
 },
 "nbformat": 4,
 "nbformat_minor": 2
}
